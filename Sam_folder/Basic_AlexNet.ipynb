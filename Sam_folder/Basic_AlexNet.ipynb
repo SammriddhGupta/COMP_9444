{
  "nbformat": 4,
  "nbformat_minor": 0,
  "metadata": {
    "colab": {
      "provenance": [],
      "machine_shape": "hm",
      "gpuType": "T4"
    },
    "kernelspec": {
      "name": "python3",
      "display_name": "Python 3"
    },
    "language_info": {
      "name": "python"
    },
    "accelerator": "GPU"
  },
  "cells": [
    {
      "cell_type": "markdown",
      "source": [
        "##### Importing Necessary Packages"
      ],
      "metadata": {
        "id": "YlpOeXww8szt"
      }
    },
    {
      "cell_type": "code",
      "source": [
        "import matplotlib.pyplot as plt\n",
        "from matplotlib.backend_bases import RendererBase\n",
        "from scipy import signal\n",
        "from scipy.io import wavfile\n",
        "#import soundfile as sf\n",
        "import os\n",
        "import numpy as np\n",
        "from PIL import Image\n",
        "from scipy.fftpack import fft\n",
        "import matplotlib.pyplot as plt\n",
        "import torch.onnx\n",
        "\n",
        "%matplotlib inline"
      ],
      "metadata": {
        "id": "yEhoC5iS8aKm"
      },
      "execution_count": 2,
      "outputs": []
    },
    {
      "cell_type": "markdown",
      "source": [
        "### Mounting drive, where RAVDESSS dataset has been uploaded"
      ],
      "metadata": {
        "id": "3gp6wbYh7kSO"
      }
    },
    {
      "cell_type": "code",
      "source": [
        "from google.colab import drive\n",
        "drive.mount('/content/drive')"
      ],
      "metadata": {
        "colab": {
          "base_uri": "https://localhost:8080/"
        },
        "id": "aCuPjTbx89fQ",
        "outputId": "716fe735-b3f1-4223-e6dd-e387efde498a"
      },
      "execution_count": 3,
      "outputs": [
        {
          "output_type": "stream",
          "name": "stdout",
          "text": [
            "Mounted at /content/drive\n"
          ]
        }
      ]
    },
    {
      "cell_type": "markdown",
      "source": [
        "### Function to Create a List to store all the filenames under each folder"
      ],
      "metadata": {
        "id": "1NrucSQT9I4Y"
      }
    },
    {
      "cell_type": "code",
      "source": [
        "def file_search(dirname, ret, audio_file, list_avoid_dir=[]):\n",
        "    filenames = os.listdir(dirname)\n",
        "\n",
        "    for filename in filenames:\n",
        "        full_filename = os.path.join(dirname, filename)\n",
        "        audio_name = filename\n",
        "\n",
        "        if os.path.isdir(full_filename) :\n",
        "            if full_filename.split('/')[-1] in list_avoid_dir:\n",
        "                continue\n",
        "            else:\n",
        "                file_search(full_filename, ret, list_avoid_dir)\n",
        "\n",
        "        else:\n",
        "            ret.append( full_filename )\n",
        "            audio_file.append(audio_name)"
      ],
      "metadata": {
        "id": "9E29SDWk8-Lk"
      },
      "execution_count": 4,
      "outputs": []
    },
    {
      "cell_type": "code",
      "source": [
        "list_files = []\n",
        "\n",
        "##storing only the names of the audio file\n",
        "audio_file = []\n",
        "for x in range(24):\n",
        "\n",
        "    ##converting the iteration to string\n",
        "    check_iter = str(x)\n",
        "\n",
        "    if x == 9:\n",
        "      sess_name = 'Actor_' + str(x+1)\n",
        "    elif len(check_iter) == 1:\n",
        "        sess_name = 'Actor_0' + str(x+1)\n",
        "    else:\n",
        "        sess_name = 'Actor_' + str(x+1)\n",
        "    path = '/content/drive/MyDrive/COMP9444/Project/archive/'+ sess_name + '/'\n",
        "    file_search(path, list_files, audio_file)\n",
        "    list_files = sorted(list_files)\n",
        "    print (sess_name + \", #sum files: \" + str(len(list_files)))"
      ],
      "metadata": {
        "colab": {
          "base_uri": "https://localhost:8080/"
        },
        "id": "c6__Ho5-9Y5L",
        "outputId": "5c8be8c2-a0e1-4250-f4ba-fdb61acd52d9"
      },
      "execution_count": 5,
      "outputs": [
        {
          "output_type": "stream",
          "name": "stdout",
          "text": [
            "Actor_01, #sum files: 60\n",
            "Actor_02, #sum files: 120\n",
            "Actor_03, #sum files: 180\n",
            "Actor_04, #sum files: 240\n",
            "Actor_05, #sum files: 300\n",
            "Actor_06, #sum files: 360\n",
            "Actor_07, #sum files: 420\n",
            "Actor_08, #sum files: 480\n",
            "Actor_09, #sum files: 540\n",
            "Actor_10, #sum files: 600\n",
            "Actor_11, #sum files: 660\n",
            "Actor_12, #sum files: 720\n",
            "Actor_13, #sum files: 780\n",
            "Actor_14, #sum files: 840\n",
            "Actor_15, #sum files: 900\n",
            "Actor_16, #sum files: 960\n",
            "Actor_17, #sum files: 1020\n",
            "Actor_18, #sum files: 1080\n",
            "Actor_19, #sum files: 1140\n",
            "Actor_20, #sum files: 1200\n",
            "Actor_21, #sum files: 1260\n",
            "Actor_22, #sum files: 1320\n",
            "Actor_23, #sum files: 1380\n",
            "Actor_24, #sum files: 1440\n"
          ]
        }
      ]
    },
    {
      "cell_type": "markdown",
      "source": [
        "### Getting length of list to check"
      ],
      "metadata": {
        "id": "CG4m7p8B7wZa"
      }
    },
    {
      "cell_type": "code",
      "source": [
        "len(list_files)###total number of files in the directory"
      ],
      "metadata": {
        "colab": {
          "base_uri": "https://localhost:8080/"
        },
        "id": "N78oWCuk9f1M",
        "outputId": "431c7f40-5ee0-4c2c-9235-9b9b0448b144"
      },
      "execution_count": 6,
      "outputs": [
        {
          "output_type": "execute_result",
          "data": {
            "text/plain": [
              "1440"
            ]
          },
          "metadata": {},
          "execution_count": 6
        }
      ]
    },
    {
      "cell_type": "markdown",
      "source": [
        "## Process filenames from a list of file paths, extract the emotion class, and convert them into numeric representations with 0-based indexing and append it to the emotion_class list"
      ],
      "metadata": {
        "id": "ugtoWAXh8gs4"
      }
    },
    {
      "cell_type": "code",
      "source": [
        "emotion_class = []\n",
        "for everyfile in list_files:\n",
        "  if (everyfile.split('/')[-1].strip('.wav')):\n",
        "    ##getting the actual audio file name\n",
        "    filename = everyfile.split('/')[-1].strip('.wav')\n",
        "\n",
        "    audio_file = filename.split('-')\n",
        "\n",
        "    ##getting the emotion class\n",
        "    label = audio_file[2]\n",
        "\n",
        "    ##making the class labels as either '0', '1', '2', '3', '4', '5', '6', '7'\n",
        "    number_label = int(label) - 1\n",
        "\n",
        "    emotion_class.append(number_label)"
      ],
      "metadata": {
        "id": "NcARjwv89j6J"
      },
      "execution_count": 7,
      "outputs": []
    },
    {
      "cell_type": "code",
      "source": [
        "# Summary Statistics\n",
        "labels_count = len(emotion_class)\n",
        "unique_labels = np.unique(emotion_class, return_counts=True)\n",
        "\n",
        "print(f\"Total Labels: {labels_count}\")\n",
        "print(\"Unique Labels and Counts:\")\n",
        "for label, count in zip(unique_labels[0], unique_labels[1]):\n",
        "    print(f\"Label {label}: Count {count}\")\n",
        "\n",
        "# Histogram/Bar Plot\n",
        "plt.figure(figsize=(8, 6))\n",
        "plt.hist(emotion_class, bins=np.arange(min(emotion_class), max(emotion_class) + 2) - 0.5, rwidth=0.8)\n",
        "plt.title('Distribution of Emotion Class')\n",
        "plt.xlabel('Emotion Class')\n",
        "plt.ylabel('Count')\n",
        "plt.xticks(np.arange(min(emotion_class), max(emotion_class) + 1))\n",
        "plt.grid(axis='y')\n",
        "plt.show()\n"
      ],
      "metadata": {
        "colab": {
          "base_uri": "https://localhost:8080/",
          "height": 743
        },
        "id": "0I5DJPNXvGK2",
        "outputId": "84255722-8668-4b12-b161-7248936f09b5"
      },
      "execution_count": 8,
      "outputs": [
        {
          "output_type": "stream",
          "name": "stdout",
          "text": [
            "Total Labels: 1440\n",
            "Unique Labels and Counts:\n",
            "Label 0: Count 96\n",
            "Label 1: Count 192\n",
            "Label 2: Count 192\n",
            "Label 3: Count 192\n",
            "Label 4: Count 192\n",
            "Label 5: Count 192\n",
            "Label 6: Count 192\n",
            "Label 7: Count 192\n"
          ]
        },
        {
          "output_type": "display_data",
          "data": {
            "text/plain": [
              "<Figure size 800x600 with 1 Axes>"
            ],
            "image/png": "[encoded data removed]"
          },
          "metadata": {}
        }
      ]
    },
    {
      "cell_type": "markdown",
      "source": [
        "## Create a collection of dictionaries where each entry represents a file path along with its associated emotion label"
      ],
      "metadata": {
        "id": "tPnHr-HK9PAz"
      }
    },
    {
      "cell_type": "code",
      "source": [
        "data = []\n",
        "\n",
        "for filenames, labels in zip(list_files, emotion_class):\n",
        "  data.append({\"path\": filenames, \"emotion_id\": labels})"
      ],
      "metadata": {
        "id": "qCM1z3ep9vdX"
      },
      "execution_count": 10,
      "outputs": []
    },
    {
      "cell_type": "markdown",
      "source": [
        "### Convert to a pandas dataframe for better manipulation"
      ],
      "metadata": {
        "id": "eNvT7z5v9nEW"
      }
    },
    {
      "cell_type": "code",
      "source": [
        "import pandas as pd\n",
        "\n",
        "final_dataframe = pd.DataFrame(data)"
      ],
      "metadata": {
        "id": "ePTZCpfP90-T"
      },
      "execution_count": 11,
      "outputs": []
    },
    {
      "cell_type": "code",
      "source": [
        "final_dataframe"
      ],
      "metadata": {
        "colab": {
          "base_uri": "https://localhost:8080/",
          "height": 424
        },
        "id": "rQ2raK2o93G6",
        "outputId": "2d1062db-124b-482e-fc98-01310703a632"
      },
      "execution_count": 12,
      "outputs": [
        {
          "output_type": "execute_result",
          "data": {
            "text/plain": [
              "                                                   path  emotion_id\n",
              "0     /content/drive/MyDrive/COMP9444/Project/archiv...           0\n",
              "1     /content/drive/MyDrive/COMP9444/Project/archiv...           0\n",
              "2     /content/drive/MyDrive/COMP9444/Project/archiv...           0\n",
              "3     /content/drive/MyDrive/COMP9444/Project/archiv...           0\n",
              "4     /content/drive/MyDrive/COMP9444/Project/archiv...           1\n",
              "...                                                 ...         ...\n",
              "1435  /content/drive/MyDrive/COMP9444/Project/archiv...           7\n",
              "1436  /content/drive/MyDrive/COMP9444/Project/archiv...           7\n",
              "1437  /content/drive/MyDrive/COMP9444/Project/archiv...           7\n",
              "1438  /content/drive/MyDrive/COMP9444/Project/archiv...           7\n",
              "1439  /content/drive/MyDrive/COMP9444/Project/archiv...           7\n",
              "\n",
              "[1440 rows x 2 columns]"
            ],
            "text/html": [
              "\n",
              "  <div id=\"df-5daf7aba-dc52-474e-8fac-642d7435be7f\" class=\"colab-df-container\">\n",
              "    <div>\n",
              "<style scoped>\n",
              "    .dataframe tbody tr th:only-of-type {\n",
              "        vertical-align: middle;\n",
              "    }\n",
              "\n",
              "    .dataframe tbody tr th {\n",
              "        vertical-align: top;\n",
              "    }\n",
              "\n",
              "    .dataframe thead th {\n",
              "        text-align: right;\n",
              "    }\n",
              "</style>\n",
              "<table border=\"1\" class=\"dataframe\">\n",
              "  <thead>\n",
              "    <tr style=\"text-align: right;\">\n",
              "      <th></th>\n",
              "      <th>path</th>\n",
              "      <th>emotion_id</th>\n",
              "    </tr>\n",
              "  </thead>\n",
              "  <tbody>\n",
              "    <tr>\n",
              "      <th>0</th>\n",
              "      <td>/content/drive/MyDrive/COMP9444/Project/archiv...</td>\n",
              "      <td>0</td>\n",
              "    </tr>\n",
              "    <tr>\n",
              "      <th>1</th>\n",
              "      <td>/content/drive/MyDrive/COMP9444/Project/archiv...</td>\n",
              "      <td>0</td>\n",
              "    </tr>\n",
              "    <tr>\n",
              "      <th>2</th>\n",
              "      <td>/content/drive/MyDrive/COMP9444/Project/archiv...</td>\n",
              "      <td>0</td>\n",
              "    </tr>\n",
              "    <tr>\n",
              "      <th>3</th>\n",
              "      <td>/content/drive/MyDrive/COMP9444/Project/archiv...</td>\n",
              "      <td>0</td>\n",
              "    </tr>\n",
              "    <tr>\n",
              "      <th>4</th>\n",
              "      <td>/content/drive/MyDrive/COMP9444/Project/archiv...</td>\n",
              "      <td>1</td>\n",
              "    </tr>\n",
              "    <tr>\n",
              "      <th>...</th>\n",
              "      <td>...</td>\n",
              "      <td>...</td>\n",
              "    </tr>\n",
              "    <tr>\n",
              "      <th>1435</th>\n",
              "      <td>/content/drive/MyDrive/COMP9444/Project/archiv...</td>\n",
              "      <td>7</td>\n",
              "    </tr>\n",
              "    <tr>\n",
              "      <th>1436</th>\n",
              "      <td>/content/drive/MyDrive/COMP9444/Project/archiv...</td>\n",
              "      <td>7</td>\n",
              "    </tr>\n",
              "    <tr>\n",
              "      <th>1437</th>\n",
              "      <td>/content/drive/MyDrive/COMP9444/Project/archiv...</td>\n",
              "      <td>7</td>\n",
              "    </tr>\n",
              "    <tr>\n",
              "      <th>1438</th>\n",
              "      <td>/content/drive/MyDrive/COMP9444/Project/archiv...</td>\n",
              "      <td>7</td>\n",
              "    </tr>\n",
              "    <tr>\n",
              "      <th>1439</th>\n",
              "      <td>/content/drive/MyDrive/COMP9444/Project/archiv...</td>\n",
              "      <td>7</td>\n",
              "    </tr>\n",
              "  </tbody>\n",
              "</table>\n",
              "<p>1440 rows × 2 columns</p>\n",
              "</div>\n",
              "    <div class=\"colab-df-buttons\">\n",
              "\n",
              "  <div class=\"colab-df-container\">\n",
              "    <button class=\"colab-df-convert\" onclick=\"convertToInteractive('df-5daf7aba-dc52-474e-8fac-642d7435be7f')\"\n",
              "            title=\"Convert this dataframe to an interactive table.\"\n",
              "            style=\"display:none;\">\n",
              "\n",
              "  <svg xmlns=\"http://www.w3.org/2000/svg\" height=\"24px\" viewBox=\"0 -960 960 960\">\n",
              "    <path d=\"M120-120v-720h720v720H120Zm60-500h600v-160H180v160Zm220 220h160v-160H400v160Zm0 220h160v-160H400v160ZM180-400h160v-160H180v160Zm440 0h160v-160H620v160ZM180-180h160v-160H180v160Zm440 0h160v-160H620v160Z\"/>\n",
              "  </svg>\n",
              "    </button>\n",
              "\n",
              "  <style>\n",
              "    .colab-df-container {\n",
              "      display:flex;\n",
              "      gap: 12px;\n",
              "    }\n",
              "\n",
              "    .colab-df-convert {\n",
              "      background-color: #E8F0FE;\n",
              "      border: none;\n",
              "      border-radius: 50%;\n",
              "      cursor: pointer;\n",
              "      display: none;\n",
              "      fill: #1967D2;\n",
              "      height: 32px;\n",
              "      padding: 0 0 0 0;\n",
              "      width: 32px;\n",
              "    }\n",
              "\n",
              "    .colab-df-convert:hover {\n",
              "      background-color: #E2EBFA;\n",
              "      box-shadow: 0px 1px 2px rgba(60, 64, 67, 0.3), 0px 1px 3px 1px rgba(60, 64, 67, 0.15);\n",
              "      fill: #174EA6;\n",
              "    }\n",
              "\n",
              "    .colab-df-buttons div {\n",
              "      margin-bottom: 4px;\n",
              "    }\n",
              "\n",
              "    [theme=dark] .colab-df-convert {\n",
              "      background-color: #3B4455;\n",
              "      fill: #D2E3FC;\n",
              "    }\n",
              "\n",
              "    [theme=dark] .colab-df-convert:hover {\n",
              "      background-color: #434B5C;\n",
              "      box-shadow: 0px 1px 3px 1px rgba(0, 0, 0, 0.15);\n",
              "      filter: drop-shadow(0px 1px 2px rgba(0, 0, 0, 0.3));\n",
              "      fill: #FFFFFF;\n",
              "    }\n",
              "  </style>\n",
              "\n",
              "    <script>\n",
              "      const buttonEl =\n",
              "        document.querySelector('#df-5daf7aba-dc52-474e-8fac-642d7435be7f button.colab-df-convert');\n",
              "      buttonEl.style.display =\n",
              "        google.colab.kernel.accessAllowed ? 'block' : 'none';\n",
              "\n",
              "      async function convertToInteractive(key) {\n",
              "        const element = document.querySelector('#df-5daf7aba-dc52-474e-8fac-642d7435be7f');\n",
              "        const dataTable =\n",
              "          await google.colab.kernel.invokeFunction('convertToInteractive',\n",
              "                                                    [key], {});\n",
              "        if (!dataTable) return;\n",
              "\n",
              "        const docLinkHtml = 'Like what you see? Visit the ' +\n",
              "          '<a target=\"_blank\" href=https://colab.research.google.com/notebooks/data_table.ipynb>data table notebook</a>'\n",
              "          + ' to learn more about interactive tables.';\n",
              "        element.innerHTML = '';\n",
              "        dataTable['output_type'] = 'display_data';\n",
              "        await google.colab.output.renderOutput(dataTable, element);\n",
              "        const docLink = document.createElement('div');\n",
              "        docLink.innerHTML = docLinkHtml;\n",
              "        element.appendChild(docLink);\n",
              "      }\n",
              "    </script>\n",
              "  </div>\n",
              "\n",
              "\n",
              "<div id=\"df-c5417c24-0cd5-487f-974c-9c2877abcc6f\">\n",
              "  <button class=\"colab-df-quickchart\" onclick=\"quickchart('df-c5417c24-0cd5-487f-974c-9c2877abcc6f')\"\n",
              "            title=\"Suggest charts\"\n",
              "            style=\"display:none;\">\n",
              "\n",
              "<svg xmlns=\"http://www.w3.org/2000/svg\" height=\"24px\"viewBox=\"0 0 24 24\"\n",
              "     width=\"24px\">\n",
              "    <g>\n",
              "        <path d=\"M19 3H5c-1.1 0-2 .9-2 2v14c0 1.1.9 2 2 2h14c1.1 0 2-.9 2-2V5c0-1.1-.9-2-2-2zM9 17H7v-7h2v7zm4 0h-2V7h2v10zm4 0h-2v-4h2v4z\"/>\n",
              "    </g>\n",
              "</svg>\n",
              "  </button>\n",
              "\n",
              "<style>\n",
              "  .colab-df-quickchart {\n",
              "      --bg-color: #E8F0FE;\n",
              "      --fill-color: #1967D2;\n",
              "      --hover-bg-color: #E2EBFA;\n",
              "      --hover-fill-color: #174EA6;\n",
              "      --disabled-fill-color: #AAA;\n",
              "      --disabled-bg-color: #DDD;\n",
              "  }\n",
              "\n",
              "  [theme=dark] .colab-df-quickchart {\n",
              "      --bg-color: #3B4455;\n",
              "      --fill-color: #D2E3FC;\n",
              "      --hover-bg-color: #434B5C;\n",
              "      --hover-fill-color: #FFFFFF;\n",
              "      --disabled-bg-color: #3B4455;\n",
              "      --disabled-fill-color: #666;\n",
              "  }\n",
              "\n",
              "  .colab-df-quickchart {\n",
              "    background-color: var(--bg-color);\n",
              "    border: none;\n",
              "    border-radius: 50%;\n",
              "    cursor: pointer;\n",
              "    display: none;\n",
              "    fill: var(--fill-color);\n",
              "    height: 32px;\n",
              "    padding: 0;\n",
              "    width: 32px;\n",
              "  }\n",
              "\n",
              "  .colab-df-quickchart:hover {\n",
              "    background-color: var(--hover-bg-color);\n",
              "    box-shadow: 0 1px 2px rgba(60, 64, 67, 0.3), 0 1px 3px 1px rgba(60, 64, 67, 0.15);\n",
              "    fill: var(--button-hover-fill-color);\n",
              "  }\n",
              "\n",
              "  .colab-df-quickchart-complete:disabled,\n",
              "  .colab-df-quickchart-complete:disabled:hover {\n",
              "    background-color: var(--disabled-bg-color);\n",
              "    fill: var(--disabled-fill-color);\n",
              "    box-shadow: none;\n",
              "  }\n",
              "\n",
              "  .colab-df-spinner {\n",
              "    border: 2px solid var(--fill-color);\n",
              "    border-color: transparent;\n",
              "    border-bottom-color: var(--fill-color);\n",
              "    animation:\n",
              "      spin 1s steps(1) infinite;\n",
              "  }\n",
              "\n",
              "  @keyframes spin {\n",
              "    0% {\n",
              "      border-color: transparent;\n",
              "      border-bottom-color: var(--fill-color);\n",
              "      border-left-color: var(--fill-color);\n",
              "    }\n",
              "    20% {\n",
              "      border-color: transparent;\n",
              "      border-left-color: var(--fill-color);\n",
              "      border-top-color: var(--fill-color);\n",
              "    }\n",
              "    30% {\n",
              "      border-color: transparent;\n",
              "      border-left-color: var(--fill-color);\n",
              "      border-top-color: var(--fill-color);\n",
              "      border-right-color: var(--fill-color);\n",
              "    }\n",
              "    40% {\n",
              "      border-color: transparent;\n",
              "      border-right-color: var(--fill-color);\n",
              "      border-top-color: var(--fill-color);\n",
              "    }\n",
              "    60% {\n",
              "      border-color: transparent;\n",
              "      border-right-color: var(--fill-color);\n",
              "    }\n",
              "    80% {\n",
              "      border-color: transparent;\n",
              "      border-right-color: var(--fill-color);\n",
              "      border-bottom-color: var(--fill-color);\n",
              "    }\n",
              "    90% {\n",
              "      border-color: transparent;\n",
              "      border-bottom-color: var(--fill-color);\n",
              "    }\n",
              "  }\n",
              "</style>\n",
              "\n",
              "  <script>\n",
              "    async function quickchart(key) {\n",
              "      const quickchartButtonEl =\n",
              "        document.querySelector('#' + key + ' button');\n",
              "      quickchartButtonEl.disabled = true;  // To prevent multiple clicks.\n",
              "      quickchartButtonEl.classList.add('colab-df-spinner');\n",
              "      try {\n",
              "        const charts = await google.colab.kernel.invokeFunction(\n",
              "            'suggestCharts', [key], {});\n",
              "      } catch (error) {\n",
              "        console.error('Error during call to suggestCharts:', error);\n",
              "      }\n",
              "      quickchartButtonEl.classList.remove('colab-df-spinner');\n",
              "      quickchartButtonEl.classList.add('colab-df-quickchart-complete');\n",
              "    }\n",
              "    (() => {\n",
              "      let quickchartButtonEl =\n",
              "        document.querySelector('#df-c5417c24-0cd5-487f-974c-9c2877abcc6f button');\n",
              "      quickchartButtonEl.style.display =\n",
              "        google.colab.kernel.accessAllowed ? 'block' : 'none';\n",
              "    })();\n",
              "  </script>\n",
              "</div>\n",
              "    </div>\n",
              "  </div>\n"
            ]
          },
          "metadata": {},
          "execution_count": 12
        }
      ]
    },
    {
      "cell_type": "markdown",
      "source": [
        "### import necessary packages"
      ],
      "metadata": {
        "id": "DkZiYyEz-d4J"
      }
    },
    {
      "cell_type": "code",
      "source": [
        "import math, random\n",
        "import torch\n",
        "import torchaudio\n",
        "from torchaudio import transforms\n",
        "from IPython.display import Audio"
      ],
      "metadata": {
        "id": "nNobA3PV949w"
      },
      "execution_count": 13,
      "outputs": []
    },
    {
      "cell_type": "markdown",
      "source": [
        "## The AudioUtil class encapsulates static methods for audio preprocessing, including channel manipulation, resampling, signal padding/truncation, time shifting for augmentation, and spectrogram generation using MelSpectrogram and AmplitudeToDB transformations."
      ],
      "metadata": {
        "id": "zgNrh0iEBycJ"
      }
    },
    {
      "cell_type": "code",
      "source": [
        "class AudioUtil():\n",
        "  # ----------------------------\n",
        "  # Load an audio file. Return the signal as a tensor and the sample rate\n",
        "  # ----------------------------\n",
        "  @staticmethod\n",
        "  def open(audio_file):\n",
        "    sig, sr = torchaudio.load(audio_file)\n",
        "    return (sig, sr)\n",
        "\n",
        "\n",
        "\n",
        "  # ----------------------------\n",
        "  # Convert the given audio to the desired number of channels\n",
        "  # ----------------------------\n",
        "  @staticmethod\n",
        "  def rechannel(aud, new_channel):\n",
        "    sig, sr = aud\n",
        "\n",
        "    if (sig.shape[0] == new_channel):\n",
        "      # Nothing to do\n",
        "      return aud\n",
        "\n",
        "    if (new_channel == 1):\n",
        "      # Convert from stereo to mono by selecting only the first channel\n",
        "      resig = sig[:1, :]\n",
        "    else:\n",
        "      # Convert from mono to stereo by duplicating the first channel\n",
        "      resig = torch.cat([sig, sig])\n",
        "\n",
        "    return ((resig, sr))\n",
        "\n",
        "  ##same sample rates for each audio signal\n",
        "  @staticmethod\n",
        "  def resample(aud, newsr):\n",
        "    sig, sr = aud\n",
        "\n",
        "    if (sr == newsr):\n",
        "      # Nothing to do\n",
        "      return aud\n",
        "\n",
        "    num_channels = sig.shape[0]\n",
        "    # Resample first channel\n",
        "    resig = torchaudio.transforms.Resample(sr, newsr)(sig[:1,:])\n",
        "    if (num_channels > 1):\n",
        "      # Resample the second channel and merge both channels\n",
        "      retwo = torchaudio.transforms.Resample(sr, newsr)(sig[1:,:])\n",
        "      resig = torch.cat([resig, retwo])\n",
        "\n",
        "    return ((resig, newsr))\n",
        "\n",
        "  ##resizing signals to the same length\n",
        "  @staticmethod\n",
        "  def pad_trunc(aud, max_ms):\n",
        "    sig, sr = aud\n",
        "    num_rows, sig_len = sig.shape\n",
        "    max_len = sr//1000 * max_ms\n",
        "\n",
        "    if (sig_len > max_len):\n",
        "      # Truncate the signal to the given length\n",
        "      sig = sig[:,:max_len]\n",
        "\n",
        "    elif (sig_len < max_len):\n",
        "      # Length of padding to add at the beginning and end of the signal\n",
        "      pad_begin_len = random.randint(0, max_len - sig_len)\n",
        "      pad_end_len = max_len - sig_len - pad_begin_len\n",
        "\n",
        "      # Pad with 0s\n",
        "      pad_begin = torch.zeros((num_rows, pad_begin_len))\n",
        "      pad_end = torch.zeros((num_rows, pad_end_len))\n",
        "\n",
        "      sig = torch.cat((pad_begin, sig, pad_end), 1)\n",
        "\n",
        "    return (sig, sr)\n",
        "\n",
        "  ###performing data augmentation by time shifting of audio signals\n",
        "  @staticmethod\n",
        "  def time_shift(aud, shift_limit):\n",
        "    sig,sr = aud\n",
        "    _, sig_len = sig.shape\n",
        "    shift_amt = int(random.random() * shift_limit * sig_len)\n",
        "    return (sig.roll(shift_amt), sr)\n",
        "\n",
        "  # ----------------------------\n",
        "  # Generate a Spectrogram\n",
        "  # ----------------------------\n",
        "  @staticmethod\n",
        "  def spectro_gram(aud, n_mels=64, n_fft=40, hop_len=20):\n",
        "    sig,sr = aud\n",
        "    top_db = 80\n",
        "\n",
        "    # spec has shape [channel, n_mels, time], where channel is mono, stereo etc\n",
        "    spec = transforms.MelSpectrogram(sr, n_fft=n_fft, hop_length=hop_len, n_mels=n_mels)(sig)\n",
        "\n",
        "    # Convert to decibels\n",
        "    spec = transforms.AmplitudeToDB(top_db=top_db)(spec)\n",
        "    return (spec)"
      ],
      "metadata": {
        "id": "excMClGT98kt"
      },
      "execution_count": 14,
      "outputs": []
    },
    {
      "cell_type": "code",
      "source": [
        "from torch.utils.data import DataLoader, Dataset, random_split\n",
        "import torchaudio"
      ],
      "metadata": {
        "id": "_itCNl_y-Dgp"
      },
      "execution_count": 15,
      "outputs": []
    },
    {
      "cell_type": "markdown",
      "source": [
        "## Prepare sound data by setting a standardized duration, sample rate, and channel specification, while utilizing methods from AudioUtil for operations like resampling, channel manipulation, duration adjustment, time shifting for augmentation, and spectrogram generation using MelSpectrogram transformations with specific parameters."
      ],
      "metadata": {
        "id": "bLgzDnbad_SM"
      }
    },
    {
      "cell_type": "code",
      "source": [
        "# ----------------------------\n",
        "# Sound Dataset\n",
        "# ----------------------------\n",
        "class SoundDS(Dataset):\n",
        "  def __init__(self, df, data_path):\n",
        "    self.df = df\n",
        "    self.data_path = str(data_path)\n",
        "    self.duration = 4000\n",
        "    self.sr = 44100\n",
        "    self.channel = 2\n",
        "    self.shift_pct = 0.4\n",
        "\n",
        "  # ----------------------------\n",
        "  # Number of items in dataset\n",
        "  # ----------------------------\n",
        "  def __len__(self):\n",
        "    return len(self.df)\n",
        "\n",
        "  # ----------------------------\n",
        "  # Get i'th item in dataset\n",
        "  # ----------------------------\n",
        "  def __getitem__(self, idx):\n",
        "    # Absolute file path of the audio file - concatenate the audio directory with\n",
        "    # the relative path\n",
        "    audio_file = self.df.loc[idx, 'path']\n",
        "    # Get the Class ID/ Emotion ID\n",
        "    class_id = self.df.loc[idx, 'emotion_id']\n",
        "\n",
        "    aud = AudioUtil.open(audio_file)\n",
        "    # Some sounds have a higher sample rate, or fewer channels compared to the\n",
        "    # majority. So make all sounds have the same number of channels and same\n",
        "    # sample rate. Unless the sample rate is the same, the pad_trunc will still\n",
        "    # result in arrays of different lengths, even though the sound duration is\n",
        "    # the same.\n",
        "    reaud = AudioUtil.resample(aud, self.sr)\n",
        "    rechan = AudioUtil.rechannel(reaud, self.channel)\n",
        "\n",
        "    dur_aud = AudioUtil.pad_trunc(rechan, self.duration)\n",
        "    shift_aud = AudioUtil.time_shift(dur_aud, self.shift_pct)\n",
        "    sgram = AudioUtil.spectro_gram(shift_aud, n_mels=64, n_fft=1024, hop_len=None)\n",
        "    #aug_sgram = AudioUtil.spectro_augment(sgram, max_mask_pct=0.1, n_freq_masks=2, n_time_masks=2)\n",
        "\n",
        "    return sgram, class_id"
      ],
      "metadata": {
        "id": "TSKicfye-I9T"
      },
      "execution_count": 16,
      "outputs": []
    },
    {
      "cell_type": "code",
      "source": [
        "from torch.utils.data import random_split\n",
        "\n",
        "myds = SoundDS(final_dataframe, list_files)"
      ],
      "metadata": {
        "id": "r8Kf_UVS-MRf"
      },
      "execution_count": 17,
      "outputs": []
    },
    {
      "cell_type": "code",
      "source": [
        "len(myds)"
      ],
      "metadata": {
        "colab": {
          "base_uri": "https://localhost:8080/"
        },
        "id": "nrEaEO5s-PKj",
        "outputId": "650836de-8e4e-46eb-c8a6-b6e92ea23a81"
      },
      "execution_count": 18,
      "outputs": [
        {
          "output_type": "execute_result",
          "data": {
            "text/plain": [
              "1440"
            ]
          },
          "metadata": {},
          "execution_count": 18
        }
      ]
    },
    {
      "cell_type": "markdown",
      "source": [
        "## Preprocessing before training\n",
        "### Determine size of myds dataset and randomly split into training and validation datasets"
      ],
      "metadata": {
        "id": "BTTK0yPzepFj"
      }
    },
    {
      "cell_type": "code",
      "source": [
        "num_items = len(myds)\n",
        "\n",
        "##Number of items in the Training Dataset\n",
        "num_train = round(num_items * 0.8)\n",
        "\n",
        "##Number of items in the Validation Dataset\n",
        "num_val = num_items - num_train\n",
        "\n",
        "##randomly splitting the data between training and valaidation dataset\n",
        "train_ds, val_ds = random_split(myds, [num_train, num_val])"
      ],
      "metadata": {
        "id": "wHVy4Ih6-TIP"
      },
      "execution_count": 19,
      "outputs": []
    },
    {
      "cell_type": "markdown",
      "source": [
        "### Create data loaders, setting batch size 16 and shuffling training data to false"
      ],
      "metadata": {
        "id": "y5YRgetFe-Ia"
      }
    },
    {
      "cell_type": "code",
      "source": [
        "# Create training and validation data loaders\n",
        "train_dl = torch.utils.data.DataLoader(train_ds, batch_size=16, shuffle=True)\n",
        "val_dl = torch.utils.data.DataLoader(val_ds, batch_size=16, shuffle=False)"
      ],
      "metadata": {
        "id": "fQP5OpOY-bkQ"
      },
      "execution_count": 20,
      "outputs": []
    },
    {
      "cell_type": "code",
      "source": [
        "!pip install torch-summary"
      ],
      "metadata": {
        "colab": {
          "base_uri": "https://localhost:8080/"
        },
        "id": "2iGsGxoRv3r3",
        "outputId": "c8869e6b-f253-4e88-aae2-ebc0ac501317"
      },
      "execution_count": 21,
      "outputs": [
        {
          "output_type": "stream",
          "name": "stdout",
          "text": [
            "Collecting torch-summary\n",
            "  Downloading torch_summary-1.4.5-py3-none-any.whl (16 kB)\n",
            "Installing collected packages: torch-summary\n",
            "Successfully installed torch-summary-1.4.5\n"
          ]
        }
      ]
    },
    {
      "cell_type": "code",
      "source": [
        "import torch\n",
        "import torch.nn as nn\n",
        "import torch.nn.functional as F\n",
        "import torch.utils.data as data\n",
        "import torch.optim as optim"
      ],
      "metadata": {
        "id": "1vYQ_yZK-dzt"
      },
      "execution_count": 22,
      "outputs": []
    },
    {
      "cell_type": "code",
      "source": [
        "from torchsummary import summary"
      ],
      "metadata": {
        "id": "AO4I1UEfv0m1"
      },
      "execution_count": 23,
      "outputs": []
    },
    {
      "cell_type": "markdown",
      "source": [
        "## Define Original AlexNet\n",
        "###AlexNet Architecture is taken from https://pytorch.org/vision/main/_modules/torchvision/models/alexnet.html"
      ],
      "metadata": {
        "id": "zArZxbhz_Qg2"
      }
    },
    {
      "cell_type": "code",
      "source": [
        "import torch.nn.functional as F\n",
        "from torch.nn import init\n",
        "\n",
        "class AlexNet(nn.Module):\n",
        "    def __init__(self,num_classes: int = 8, dropout: float = 0.5):\n",
        "        super().__init__()\n",
        "        self.features = nn.Sequential(\n",
        "            nn.Conv2d(2, 64, kernel_size=11, stride=4, padding=2),\n",
        "            nn.ReLU(inplace=True),\n",
        "            nn.MaxPool2d(kernel_size=3, stride=2),\n",
        "            nn.Conv2d(64, 192, kernel_size=5, padding=2),\n",
        "            nn.ReLU(inplace=True),\n",
        "            nn.MaxPool2d(kernel_size=3, stride=2),\n",
        "            nn.Conv2d(192, 384, kernel_size=3, padding=1),\n",
        "            nn.ReLU(inplace=True),\n",
        "            nn.Conv2d(384, 256, kernel_size=3, padding=1),\n",
        "            nn.ReLU(inplace=True),\n",
        "            nn.Conv2d(256, 256, kernel_size=3, padding=1),\n",
        "            nn.ReLU(inplace=True),\n",
        "            nn.MaxPool2d(kernel_size=3, stride=2),\n",
        "        )\n",
        "\n",
        "        self.avgpool = nn.AdaptiveAvgPool2d((6, 6))\n",
        "        self.classifier = nn.Sequential(\n",
        "            nn.Dropout(p=dropout),\n",
        "            nn.Linear(256 * 6 * 6, 4096),\n",
        "            nn.ReLU(inplace=True),\n",
        "            nn.Dropout(p=dropout),\n",
        "            nn.Linear(4096, 4096),\n",
        "            nn.ReLU(inplace=True),\n",
        "            nn.Linear(4096, num_classes),\n",
        "        )\n",
        "\n",
        "    def forward(self, x: torch.Tensor) -> torch.Tensor:\n",
        "        x = self.features(x)\n",
        "        x = self.avgpool(x)\n",
        "        x = torch.flatten(x, 1)\n",
        "        x = self.classifier(x)\n",
        "        return x\n",
        "\n",
        "# Create the model and put it on the GPU if available\n",
        "myModel = AlexNet()\n",
        "summary(myModel)\n",
        "print(summary)\n",
        "device = torch.device(\"cuda:0\" if torch.cuda.is_available() else \"cpu\")\n",
        "myModel = myModel.to(device)\n",
        "# Check that it is on Cuda\n",
        "next(myModel.parameters()).device"
      ],
      "metadata": {
        "colab": {
          "base_uri": "https://localhost:8080/"
        },
        "id": "JR26kRVt_sx_",
        "outputId": "3bbb721b-a571-4cc8-b666-0f57f7b209e7"
      },
      "execution_count": 24,
      "outputs": [
        {
          "output_type": "stream",
          "name": "stdout",
          "text": [
            "=================================================================\n",
            "Layer (type:depth-idx)                   Param #\n",
            "=================================================================\n",
            "├─Sequential: 1-1                        --\n",
            "|    └─Conv2d: 2-1                       15,552\n",
            "|    └─ReLU: 2-2                         --\n",
            "|    └─MaxPool2d: 2-3                    --\n",
            "|    └─Conv2d: 2-4                       307,392\n",
            "|    └─ReLU: 2-5                         --\n",
            "|    └─MaxPool2d: 2-6                    --\n",
            "|    └─Conv2d: 2-7                       663,936\n",
            "|    └─ReLU: 2-8                         --\n",
            "|    └─Conv2d: 2-9                       884,992\n",
            "|    └─ReLU: 2-10                        --\n",
            "|    └─Conv2d: 2-11                      590,080\n",
            "|    └─ReLU: 2-12                        --\n",
            "|    └─MaxPool2d: 2-13                   --\n",
            "├─AdaptiveAvgPool2d: 1-2                 --\n",
            "├─Sequential: 1-3                        --\n",
            "|    └─Dropout: 2-14                     --\n",
            "|    └─Linear: 2-15                      37,752,832\n",
            "|    └─ReLU: 2-16                        --\n",
            "|    └─Dropout: 2-17                     --\n",
            "|    └─Linear: 2-18                      16,781,312\n",
            "|    └─ReLU: 2-19                        --\n",
            "|    └─Linear: 2-20                      32,776\n",
            "=================================================================\n",
            "Total params: 57,028,872\n",
            "Trainable params: 57,028,872\n",
            "Non-trainable params: 0\n",
            "=================================================================\n",
            "<function summary at 0x7abfd0452830>\n"
          ]
        },
        {
          "output_type": "execute_result",
          "data": {
            "text/plain": [
              "device(type='cuda', index=0)"
            ]
          },
          "metadata": {},
          "execution_count": 24
        }
      ]
    },
    {
      "cell_type": "markdown",
      "source": [
        "#### Saving the model at the time having with best weights having lowest value in loss function"
      ],
      "metadata": {
        "id": "u1AJoDKXYFBF"
      }
    },
    {
      "cell_type": "code",
      "source": [
        "def checkpoint(model, filename):\n",
        "    torch.save(model.state_dict(), filename)\n",
        "\n",
        "def resume(model, filename):\n",
        "    model.load_state_dict(torch.load(filename))\n"
      ],
      "metadata": {
        "id": "U_v_u-IOX9NC"
      },
      "execution_count": 25,
      "outputs": []
    },
    {
      "cell_type": "markdown",
      "source": [
        "## Define Training loop, with early stopping"
      ],
      "metadata": {
        "id": "P7DbhVWBgGmM"
      }
    },
    {
      "cell_type": "code",
      "source": [
        "# ----------------------------\n",
        "# Training Loop\n",
        "# ----------------------------\n",
        "def training(model, train_dl, num_epochs):\n",
        "\n",
        "  # Loss Function, Optimizer and Scheduler\n",
        "  criterion = nn.CrossEntropyLoss()\n",
        "  optimizer = torch.optim.Adam(model.parameters(),lr=0.001)\n",
        "  scheduler = torch.optim.lr_scheduler.OneCycleLR(optimizer, max_lr=0.001,\n",
        "                                                steps_per_epoch=int(len(train_dl)),\n",
        "                                                epochs=num_epochs,anneal_strategy='linear')\n",
        "  early_stop_thresh = 10\n",
        "  best_accuracy = -1\n",
        "  best_epoch = -1\n",
        "  map_list = []\n",
        "  # Repeat for each epoch\n",
        "  for epoch in range(num_epochs):\n",
        "    running_loss = 0.0\n",
        "    correct_prediction = 0\n",
        "    total_prediction = 0\n",
        "\n",
        "    # Repeat for each batch in the training set\n",
        "\n",
        "    for i, data in enumerate(train_dl):\n",
        "        # Get the input features and target labels, and put them on the GPU\n",
        "        #print(data)\n",
        "        #inputs, labels = data[0], torch.tensor(data[1])\n",
        "\n",
        "        inputs = data[0].to(device)\n",
        "        labels = data[1].to(device)\n",
        "\n",
        "        # Normalize the inputs\n",
        "        inputs_m, inputs_s = inputs.mean(), inputs.std()\n",
        "        inputs = (inputs - inputs_m) / inputs_s\n",
        "\n",
        "        # Zero the parameter gradients\n",
        "        optimizer.zero_grad()\n",
        "\n",
        "        # forward + backward + optimize\n",
        "        outputs = model(inputs)\n",
        "\n",
        "        #print(outputs)\n",
        "\n",
        "\n",
        "\n",
        "        labels_tens = torch.tensor(labels)\n",
        "\n",
        "        #print(labels_tens)\n",
        "\n",
        "        loss = criterion(outputs, labels_tens)\n",
        "        loss.backward()\n",
        "        optimizer.step()\n",
        "        scheduler.step()\n",
        "\n",
        "        # Keep stats for Loss and Accuracy\n",
        "        running_loss += loss.item()\n",
        "\n",
        "        # Get the predicted class with the highest score\n",
        "        _, prediction = torch.max(outputs,1)\n",
        "        # Count of predictions that matched the target label\n",
        "        correct_prediction += (prediction == labels).sum().item()\n",
        "        total_prediction += prediction.shape[0]\n",
        "\n",
        "        #if i % 10 == 0:    # print every 10 mini-batches\n",
        "        #    print('[%d, %5d] loss: %.3f' % (epoch + 1, i + 1, running_loss / 10))\n",
        "\n",
        "\n",
        "\n",
        "\n",
        "\n",
        "    # Print stats at the end of the epoch\n",
        "    num_batches = len(train_dl)\n",
        "    avg_loss = running_loss / num_batches\n",
        "    acc = correct_prediction/total_prediction\n",
        "    print(f'Epoch: {epoch}, Loss: {avg_loss:.2f}, Accuracy: {acc:.2f}')\n",
        "\n",
        "\n",
        "    if acc > best_accuracy:\n",
        "      best_accuracy = acc\n",
        "      best_epoch = epoch\n",
        "      checkpoint(myModel, 'Best_Alexnet_model.pth')\n",
        "    elif epoch - best_epoch > early_stop_thresh:\n",
        "      print(f'Stopping early at epoch {epoch}')\n",
        "      flag = 1\n",
        "      #print(map_list)\n",
        "      break\n",
        "    else:\n",
        "      checkpoint(myModel, 'last_model_Alexnet.pth')\n",
        "\n",
        "\n",
        "\n",
        "num_epochs=150\n",
        "training(myModel, train_dl, num_epochs)"
      ],
      "metadata": {
        "colab": {
          "base_uri": "https://localhost:8080/",
          "height": 1000
        },
        "id": "d57ubZzS68uC",
        "outputId": "2918d475-4332-4c91-9423-88d3afd0dcd4"
      },
      "execution_count": 26,
      "outputs": [
        {
          "metadata": {
            "tags": null
          },
          "name": "stderr",
          "output_type": "stream",
          "text": [
            "<ipython-input-26-b180eda31080>:46: UserWarning: To copy construct from a tensor, it is recommended to use sourceTensor.clone().detach() or sourceTensor.clone().detach().requires_grad_(True), rather than torch.tensor(sourceTensor).\n",
            "  labels_tens = torch.tensor(labels)\n"
          ]
        },
        {
          "output_type": "stream",
          "name": "stdout",
          "text": [
            "Epoch: 0, Loss: 1.96, Accuracy: 0.22\n",
            "Epoch: 1, Loss: 1.87, Accuracy: 0.25\n",
            "Epoch: 2, Loss: 1.86, Accuracy: 0.28\n",
            "Epoch: 3, Loss: 1.81, Accuracy: 0.27\n",
            "Epoch: 4, Loss: 1.83, Accuracy: 0.26\n",
            "Epoch: 5, Loss: 1.80, Accuracy: 0.28\n",
            "Epoch: 6, Loss: 1.79, Accuracy: 0.30\n",
            "Epoch: 7, Loss: 1.75, Accuracy: 0.33\n",
            "Epoch: 8, Loss: 1.68, Accuracy: 0.34\n",
            "Epoch: 9, Loss: 1.66, Accuracy: 0.33\n",
            "Epoch: 10, Loss: 1.62, Accuracy: 0.36\n",
            "Epoch: 11, Loss: 1.57, Accuracy: 0.38\n",
            "Epoch: 12, Loss: 1.53, Accuracy: 0.39\n",
            "Epoch: 13, Loss: 1.54, Accuracy: 0.39\n",
            "Epoch: 14, Loss: 1.51, Accuracy: 0.41\n",
            "Epoch: 15, Loss: 1.48, Accuracy: 0.42\n",
            "Epoch: 16, Loss: 1.43, Accuracy: 0.43\n",
            "Epoch: 17, Loss: 1.39, Accuracy: 0.43\n",
            "Epoch: 18, Loss: 1.46, Accuracy: 0.42\n",
            "Epoch: 19, Loss: 1.39, Accuracy: 0.44\n",
            "Epoch: 20, Loss: 1.39, Accuracy: 0.45\n",
            "Epoch: 21, Loss: 1.31, Accuracy: 0.49\n",
            "Epoch: 22, Loss: 1.27, Accuracy: 0.48\n",
            "Epoch: 23, Loss: 1.31, Accuracy: 0.46\n",
            "Epoch: 24, Loss: 1.24, Accuracy: 0.50\n",
            "Epoch: 25, Loss: 1.21, Accuracy: 0.52\n",
            "Epoch: 26, Loss: 1.24, Accuracy: 0.49\n",
            "Epoch: 27, Loss: 1.16, Accuracy: 0.53\n",
            "Epoch: 28, Loss: 1.20, Accuracy: 0.51\n",
            "Epoch: 29, Loss: 1.17, Accuracy: 0.54\n",
            "Epoch: 30, Loss: 1.11, Accuracy: 0.56\n",
            "Epoch: 31, Loss: 1.19, Accuracy: 0.55\n",
            "Epoch: 32, Loss: 1.11, Accuracy: 0.55\n",
            "Epoch: 33, Loss: 1.16, Accuracy: 0.55\n",
            "Epoch: 34, Loss: 1.08, Accuracy: 0.58\n",
            "Epoch: 35, Loss: 1.10, Accuracy: 0.58\n",
            "Epoch: 36, Loss: 1.01, Accuracy: 0.60\n",
            "Epoch: 37, Loss: 0.99, Accuracy: 0.61\n",
            "Epoch: 38, Loss: 1.04, Accuracy: 0.60\n",
            "Epoch: 39, Loss: 1.03, Accuracy: 0.60\n",
            "Epoch: 40, Loss: 1.05, Accuracy: 0.61\n",
            "Epoch: 41, Loss: 0.94, Accuracy: 0.63\n",
            "Epoch: 42, Loss: 0.98, Accuracy: 0.63\n",
            "Epoch: 43, Loss: 1.03, Accuracy: 0.61\n",
            "Epoch: 44, Loss: 1.05, Accuracy: 0.60\n",
            "Epoch: 45, Loss: 1.02, Accuracy: 0.62\n",
            "Epoch: 46, Loss: 0.90, Accuracy: 0.68\n",
            "Epoch: 47, Loss: 0.93, Accuracy: 0.67\n",
            "Epoch: 48, Loss: 0.88, Accuracy: 0.70\n",
            "Epoch: 49, Loss: 0.85, Accuracy: 0.70\n",
            "Epoch: 50, Loss: 0.79, Accuracy: 0.70\n",
            "Epoch: 51, Loss: 0.71, Accuracy: 0.74\n",
            "Epoch: 52, Loss: 0.76, Accuracy: 0.73\n",
            "Epoch: 53, Loss: 0.69, Accuracy: 0.75\n",
            "Epoch: 54, Loss: 0.63, Accuracy: 0.76\n",
            "Epoch: 55, Loss: 0.70, Accuracy: 0.75\n",
            "Epoch: 56, Loss: 0.62, Accuracy: 0.77\n",
            "Epoch: 57, Loss: 0.58, Accuracy: 0.80\n",
            "Epoch: 58, Loss: 0.60, Accuracy: 0.79\n",
            "Epoch: 59, Loss: 0.61, Accuracy: 0.77\n",
            "Epoch: 60, Loss: 0.53, Accuracy: 0.82\n",
            "Epoch: 61, Loss: 0.56, Accuracy: 0.80\n",
            "Epoch: 62, Loss: 0.54, Accuracy: 0.81\n",
            "Epoch: 63, Loss: 0.52, Accuracy: 0.81\n",
            "Epoch: 64, Loss: 0.43, Accuracy: 0.85\n",
            "Epoch: 65, Loss: 0.51, Accuracy: 0.82\n",
            "Epoch: 66, Loss: 0.37, Accuracy: 0.87\n",
            "Epoch: 67, Loss: 0.36, Accuracy: 0.88\n",
            "Epoch: 68, Loss: 0.37, Accuracy: 0.86\n",
            "Epoch: 69, Loss: 0.38, Accuracy: 0.86\n",
            "Epoch: 70, Loss: 0.34, Accuracy: 0.89\n",
            "Epoch: 71, Loss: 0.30, Accuracy: 0.89\n",
            "Epoch: 72, Loss: 0.38, Accuracy: 0.89\n",
            "Epoch: 73, Loss: 0.26, Accuracy: 0.91\n",
            "Epoch: 74, Loss: 0.29, Accuracy: 0.90\n",
            "Epoch: 75, Loss: 0.30, Accuracy: 0.88\n",
            "Epoch: 76, Loss: 0.25, Accuracy: 0.92\n",
            "Epoch: 77, Loss: 0.21, Accuracy: 0.93\n",
            "Epoch: 78, Loss: 0.23, Accuracy: 0.92\n",
            "Epoch: 79, Loss: 0.22, Accuracy: 0.92\n",
            "Epoch: 80, Loss: 0.24, Accuracy: 0.91\n",
            "Epoch: 81, Loss: 0.19, Accuracy: 0.94\n",
            "Epoch: 82, Loss: 0.20, Accuracy: 0.93\n",
            "Epoch: 83, Loss: 0.12, Accuracy: 0.96\n",
            "Epoch: 84, Loss: 0.17, Accuracy: 0.95\n",
            "Epoch: 85, Loss: 0.13, Accuracy: 0.96\n",
            "Epoch: 86, Loss: 0.11, Accuracy: 0.96\n",
            "Epoch: 87, Loss: 0.18, Accuracy: 0.93\n",
            "Epoch: 88, Loss: 0.20, Accuracy: 0.93\n",
            "Epoch: 89, Loss: 0.12, Accuracy: 0.96\n",
            "Epoch: 90, Loss: 0.14, Accuracy: 0.95\n",
            "Epoch: 91, Loss: 0.20, Accuracy: 0.94\n",
            "Epoch: 92, Loss: 0.20, Accuracy: 0.93\n",
            "Epoch: 93, Loss: 0.12, Accuracy: 0.96\n",
            "Epoch: 94, Loss: 0.12, Accuracy: 0.96\n",
            "Epoch: 95, Loss: 0.13, Accuracy: 0.96\n",
            "Epoch: 96, Loss: 0.13, Accuracy: 0.96\n",
            "Epoch: 97, Loss: 0.09, Accuracy: 0.97\n",
            "Epoch: 98, Loss: 0.11, Accuracy: 0.96\n",
            "Epoch: 99, Loss: 0.08, Accuracy: 0.97\n",
            "Epoch: 100, Loss: 0.09, Accuracy: 0.97\n",
            "Epoch: 101, Loss: 0.12, Accuracy: 0.96\n",
            "Epoch: 102, Loss: 0.06, Accuracy: 0.98\n",
            "Epoch: 103, Loss: 0.11, Accuracy: 0.97\n",
            "Epoch: 104, Loss: 0.05, Accuracy: 0.98\n",
            "Epoch: 105, Loss: 0.07, Accuracy: 0.98\n",
            "Epoch: 106, Loss: 0.09, Accuracy: 0.96\n",
            "Epoch: 107, Loss: 0.06, Accuracy: 0.97\n",
            "Epoch: 108, Loss: 0.07, Accuracy: 0.98\n",
            "Epoch: 109, Loss: 0.05, Accuracy: 0.99\n",
            "Epoch: 110, Loss: 0.04, Accuracy: 0.99\n",
            "Epoch: 111, Loss: 0.07, Accuracy: 0.97\n",
            "Epoch: 112, Loss: 0.11, Accuracy: 0.96\n",
            "Epoch: 113, Loss: 0.09, Accuracy: 0.97\n",
            "Epoch: 114, Loss: 0.05, Accuracy: 0.98\n",
            "Epoch: 115, Loss: 0.08, Accuracy: 0.97\n",
            "Epoch: 116, Loss: 0.04, Accuracy: 0.99\n",
            "Epoch: 117, Loss: 0.03, Accuracy: 0.99\n",
            "Epoch: 118, Loss: 0.05, Accuracy: 0.98\n",
            "Epoch: 119, Loss: 0.06, Accuracy: 0.98\n",
            "Epoch: 120, Loss: 0.03, Accuracy: 0.99\n",
            "Epoch: 121, Loss: 0.05, Accuracy: 0.99\n",
            "Epoch: 122, Loss: 0.03, Accuracy: 0.99\n",
            "Epoch: 123, Loss: 0.02, Accuracy: 0.99\n",
            "Epoch: 124, Loss: 0.02, Accuracy: 0.99\n",
            "Epoch: 125, Loss: 0.03, Accuracy: 0.99\n",
            "Epoch: 126, Loss: 0.03, Accuracy: 0.99\n",
            "Epoch: 127, Loss: 0.02, Accuracy: 0.99\n",
            "Epoch: 128, Loss: 0.01, Accuracy: 1.00\n",
            "Epoch: 129, Loss: 0.01, Accuracy: 1.00\n",
            "Epoch: 130, Loss: 0.02, Accuracy: 0.99\n",
            "Epoch: 131, Loss: 0.01, Accuracy: 1.00\n",
            "Epoch: 132, Loss: 0.02, Accuracy: 0.99\n",
            "Epoch: 133, Loss: 0.01, Accuracy: 1.00\n",
            "Epoch: 134, Loss: 0.01, Accuracy: 1.00\n",
            "Epoch: 135, Loss: 0.01, Accuracy: 1.00\n",
            "Epoch: 136, Loss: 0.01, Accuracy: 1.00\n"
          ]
        },
        {
          "output_type": "error",
          "ename": "KeyboardInterrupt",
          "evalue": "ignored",
          "traceback": [
            "\u001b[0;31m---------------------------------------------------------------------------\u001b[0m",
            "\u001b[0;31mKeyboardInterrupt\u001b[0m                         Traceback (most recent call last)",
            "\u001b[0;32m<ipython-input-26-b180eda31080>\u001b[0m in \u001b[0;36m<cell line: 93>\u001b[0;34m()\u001b[0m\n\u001b[1;32m     91\u001b[0m \u001b[0;34m\u001b[0m\u001b[0m\n\u001b[1;32m     92\u001b[0m \u001b[0mnum_epochs\u001b[0m\u001b[0;34m=\u001b[0m\u001b[0;36m150\u001b[0m\u001b[0;34m\u001b[0m\u001b[0;34m\u001b[0m\u001b[0m\n\u001b[0;32m---> 93\u001b[0;31m \u001b[0mtraining\u001b[0m\u001b[0;34m(\u001b[0m\u001b[0mmyModel\u001b[0m\u001b[0;34m,\u001b[0m \u001b[0mtrain_dl\u001b[0m\u001b[0;34m,\u001b[0m \u001b[0mnum_epochs\u001b[0m\u001b[0;34m)\u001b[0m\u001b[0;34m\u001b[0m\u001b[0;34m\u001b[0m\u001b[0m\n\u001b[0m",
            "\u001b[0;32m<ipython-input-26-b180eda31080>\u001b[0m in \u001b[0;36mtraining\u001b[0;34m(model, train_dl, num_epochs)\u001b[0m\n\u001b[1;32m     22\u001b[0m     \u001b[0;31m# Repeat for each batch in the training set\u001b[0m\u001b[0;34m\u001b[0m\u001b[0;34m\u001b[0m\u001b[0m\n\u001b[1;32m     23\u001b[0m \u001b[0;34m\u001b[0m\u001b[0m\n\u001b[0;32m---> 24\u001b[0;31m     \u001b[0;32mfor\u001b[0m \u001b[0mi\u001b[0m\u001b[0;34m,\u001b[0m \u001b[0mdata\u001b[0m \u001b[0;32min\u001b[0m \u001b[0menumerate\u001b[0m\u001b[0;34m(\u001b[0m\u001b[0mtrain_dl\u001b[0m\u001b[0;34m)\u001b[0m\u001b[0;34m:\u001b[0m\u001b[0;34m\u001b[0m\u001b[0;34m\u001b[0m\u001b[0m\n\u001b[0m\u001b[1;32m     25\u001b[0m         \u001b[0;31m# Get the input features and target labels, and put them on the GPU\u001b[0m\u001b[0;34m\u001b[0m\u001b[0;34m\u001b[0m\u001b[0m\n\u001b[1;32m     26\u001b[0m         \u001b[0;31m#print(data)\u001b[0m\u001b[0;34m\u001b[0m\u001b[0;34m\u001b[0m\u001b[0m\n",
            "\u001b[0;32m/usr/local/lib/python3.10/dist-packages/torch/utils/data/dataloader.py\u001b[0m in \u001b[0;36m__next__\u001b[0;34m(self)\u001b[0m\n\u001b[1;32m    628\u001b[0m                 \u001b[0;31m# TODO(https://github.com/pytorch/pytorch/issues/76750)\u001b[0m\u001b[0;34m\u001b[0m\u001b[0;34m\u001b[0m\u001b[0m\n\u001b[1;32m    629\u001b[0m                 \u001b[0mself\u001b[0m\u001b[0;34m.\u001b[0m\u001b[0m_reset\u001b[0m\u001b[0;34m(\u001b[0m\u001b[0;34m)\u001b[0m  \u001b[0;31m# type: ignore[call-arg]\u001b[0m\u001b[0;34m\u001b[0m\u001b[0;34m\u001b[0m\u001b[0m\n\u001b[0;32m--> 630\u001b[0;31m             \u001b[0mdata\u001b[0m \u001b[0;34m=\u001b[0m \u001b[0mself\u001b[0m\u001b[0;34m.\u001b[0m\u001b[0m_next_data\u001b[0m\u001b[0;34m(\u001b[0m\u001b[0;34m)\u001b[0m\u001b[0;34m\u001b[0m\u001b[0;34m\u001b[0m\u001b[0m\n\u001b[0m\u001b[1;32m    631\u001b[0m             \u001b[0mself\u001b[0m\u001b[0;34m.\u001b[0m\u001b[0m_num_yielded\u001b[0m \u001b[0;34m+=\u001b[0m \u001b[0;36m1\u001b[0m\u001b[0;34m\u001b[0m\u001b[0;34m\u001b[0m\u001b[0m\n\u001b[1;32m    632\u001b[0m             \u001b[0;32mif\u001b[0m \u001b[0mself\u001b[0m\u001b[0;34m.\u001b[0m\u001b[0m_dataset_kind\u001b[0m \u001b[0;34m==\u001b[0m \u001b[0m_DatasetKind\u001b[0m\u001b[0;34m.\u001b[0m\u001b[0mIterable\u001b[0m \u001b[0;32mand\u001b[0m\u001b[0;31m \u001b[0m\u001b[0;31m\\\u001b[0m\u001b[0;34m\u001b[0m\u001b[0;34m\u001b[0m\u001b[0m\n",
            "\u001b[0;32m/usr/local/lib/python3.10/dist-packages/torch/utils/data/dataloader.py\u001b[0m in \u001b[0;36m_next_data\u001b[0;34m(self)\u001b[0m\n\u001b[1;32m    672\u001b[0m     \u001b[0;32mdef\u001b[0m \u001b[0m_next_data\u001b[0m\u001b[0;34m(\u001b[0m\u001b[0mself\u001b[0m\u001b[0;34m)\u001b[0m\u001b[0;34m:\u001b[0m\u001b[0;34m\u001b[0m\u001b[0;34m\u001b[0m\u001b[0m\n\u001b[1;32m    673\u001b[0m         \u001b[0mindex\u001b[0m \u001b[0;34m=\u001b[0m \u001b[0mself\u001b[0m\u001b[0;34m.\u001b[0m\u001b[0m_next_index\u001b[0m\u001b[0;34m(\u001b[0m\u001b[0;34m)\u001b[0m  \u001b[0;31m# may raise StopIteration\u001b[0m\u001b[0;34m\u001b[0m\u001b[0;34m\u001b[0m\u001b[0m\n\u001b[0;32m--> 674\u001b[0;31m         \u001b[0mdata\u001b[0m \u001b[0;34m=\u001b[0m \u001b[0mself\u001b[0m\u001b[0;34m.\u001b[0m\u001b[0m_dataset_fetcher\u001b[0m\u001b[0;34m.\u001b[0m\u001b[0mfetch\u001b[0m\u001b[0;34m(\u001b[0m\u001b[0mindex\u001b[0m\u001b[0;34m)\u001b[0m  \u001b[0;31m# may raise StopIteration\u001b[0m\u001b[0;34m\u001b[0m\u001b[0;34m\u001b[0m\u001b[0m\n\u001b[0m\u001b[1;32m    675\u001b[0m         \u001b[0;32mif\u001b[0m \u001b[0mself\u001b[0m\u001b[0;34m.\u001b[0m\u001b[0m_pin_memory\u001b[0m\u001b[0;34m:\u001b[0m\u001b[0;34m\u001b[0m\u001b[0;34m\u001b[0m\u001b[0m\n\u001b[1;32m    676\u001b[0m             \u001b[0mdata\u001b[0m \u001b[0;34m=\u001b[0m \u001b[0m_utils\u001b[0m\u001b[0;34m.\u001b[0m\u001b[0mpin_memory\u001b[0m\u001b[0;34m.\u001b[0m\u001b[0mpin_memory\u001b[0m\u001b[0;34m(\u001b[0m\u001b[0mdata\u001b[0m\u001b[0;34m,\u001b[0m \u001b[0mself\u001b[0m\u001b[0;34m.\u001b[0m\u001b[0m_pin_memory_device\u001b[0m\u001b[0;34m)\u001b[0m\u001b[0;34m\u001b[0m\u001b[0;34m\u001b[0m\u001b[0m\n",
            "\u001b[0;32m/usr/local/lib/python3.10/dist-packages/torch/utils/data/_utils/fetch.py\u001b[0m in \u001b[0;36mfetch\u001b[0;34m(self, possibly_batched_index)\u001b[0m\n\u001b[1;32m     47\u001b[0m         \u001b[0;32mif\u001b[0m \u001b[0mself\u001b[0m\u001b[0;34m.\u001b[0m\u001b[0mauto_collation\u001b[0m\u001b[0;34m:\u001b[0m\u001b[0;34m\u001b[0m\u001b[0;34m\u001b[0m\u001b[0m\n\u001b[1;32m     48\u001b[0m             \u001b[0;32mif\u001b[0m \u001b[0mhasattr\u001b[0m\u001b[0;34m(\u001b[0m\u001b[0mself\u001b[0m\u001b[0;34m.\u001b[0m\u001b[0mdataset\u001b[0m\u001b[0;34m,\u001b[0m \u001b[0;34m\"__getitems__\"\u001b[0m\u001b[0;34m)\u001b[0m \u001b[0;32mand\u001b[0m \u001b[0mself\u001b[0m\u001b[0;34m.\u001b[0m\u001b[0mdataset\u001b[0m\u001b[0;34m.\u001b[0m\u001b[0m__getitems__\u001b[0m\u001b[0;34m:\u001b[0m\u001b[0;34m\u001b[0m\u001b[0;34m\u001b[0m\u001b[0m\n\u001b[0;32m---> 49\u001b[0;31m                 \u001b[0mdata\u001b[0m \u001b[0;34m=\u001b[0m \u001b[0mself\u001b[0m\u001b[0;34m.\u001b[0m\u001b[0mdataset\u001b[0m\u001b[0;34m.\u001b[0m\u001b[0m__getitems__\u001b[0m\u001b[0;34m(\u001b[0m\u001b[0mpossibly_batched_index\u001b[0m\u001b[0;34m)\u001b[0m\u001b[0;34m\u001b[0m\u001b[0;34m\u001b[0m\u001b[0m\n\u001b[0m\u001b[1;32m     50\u001b[0m             \u001b[0;32melse\u001b[0m\u001b[0;34m:\u001b[0m\u001b[0;34m\u001b[0m\u001b[0;34m\u001b[0m\u001b[0m\n\u001b[1;32m     51\u001b[0m                 \u001b[0mdata\u001b[0m \u001b[0;34m=\u001b[0m \u001b[0;34m[\u001b[0m\u001b[0mself\u001b[0m\u001b[0;34m.\u001b[0m\u001b[0mdataset\u001b[0m\u001b[0;34m[\u001b[0m\u001b[0midx\u001b[0m\u001b[0;34m]\u001b[0m \u001b[0;32mfor\u001b[0m \u001b[0midx\u001b[0m \u001b[0;32min\u001b[0m \u001b[0mpossibly_batched_index\u001b[0m\u001b[0;34m]\u001b[0m\u001b[0;34m\u001b[0m\u001b[0;34m\u001b[0m\u001b[0m\n",
            "\u001b[0;32m/usr/local/lib/python3.10/dist-packages/torch/utils/data/dataset.py\u001b[0m in \u001b[0;36m__getitems__\u001b[0;34m(self, indices)\u001b[0m\n\u001b[1;32m    362\u001b[0m             \u001b[0;32mreturn\u001b[0m \u001b[0mself\u001b[0m\u001b[0;34m.\u001b[0m\u001b[0mdataset\u001b[0m\u001b[0;34m.\u001b[0m\u001b[0m__getitems__\u001b[0m\u001b[0;34m(\u001b[0m\u001b[0;34m[\u001b[0m\u001b[0mself\u001b[0m\u001b[0;34m.\u001b[0m\u001b[0mindices\u001b[0m\u001b[0;34m[\u001b[0m\u001b[0midx\u001b[0m\u001b[0;34m]\u001b[0m \u001b[0;32mfor\u001b[0m \u001b[0midx\u001b[0m \u001b[0;32min\u001b[0m \u001b[0mindices\u001b[0m\u001b[0;34m]\u001b[0m\u001b[0;34m)\u001b[0m  \u001b[0;31m# type: ignore[attr-defined]\u001b[0m\u001b[0;34m\u001b[0m\u001b[0;34m\u001b[0m\u001b[0m\n\u001b[1;32m    363\u001b[0m         \u001b[0;32melse\u001b[0m\u001b[0;34m:\u001b[0m\u001b[0;34m\u001b[0m\u001b[0;34m\u001b[0m\u001b[0m\n\u001b[0;32m--> 364\u001b[0;31m             \u001b[0;32mreturn\u001b[0m \u001b[0;34m[\u001b[0m\u001b[0mself\u001b[0m\u001b[0;34m.\u001b[0m\u001b[0mdataset\u001b[0m\u001b[0;34m[\u001b[0m\u001b[0mself\u001b[0m\u001b[0;34m.\u001b[0m\u001b[0mindices\u001b[0m\u001b[0;34m[\u001b[0m\u001b[0midx\u001b[0m\u001b[0;34m]\u001b[0m\u001b[0;34m]\u001b[0m \u001b[0;32mfor\u001b[0m \u001b[0midx\u001b[0m \u001b[0;32min\u001b[0m \u001b[0mindices\u001b[0m\u001b[0;34m]\u001b[0m\u001b[0;34m\u001b[0m\u001b[0;34m\u001b[0m\u001b[0m\n\u001b[0m\u001b[1;32m    365\u001b[0m \u001b[0;34m\u001b[0m\u001b[0m\n\u001b[1;32m    366\u001b[0m     \u001b[0;32mdef\u001b[0m \u001b[0m__len__\u001b[0m\u001b[0;34m(\u001b[0m\u001b[0mself\u001b[0m\u001b[0;34m)\u001b[0m\u001b[0;34m:\u001b[0m\u001b[0;34m\u001b[0m\u001b[0;34m\u001b[0m\u001b[0m\n",
            "\u001b[0;32m/usr/local/lib/python3.10/dist-packages/torch/utils/data/dataset.py\u001b[0m in \u001b[0;36m<listcomp>\u001b[0;34m(.0)\u001b[0m\n\u001b[1;32m    362\u001b[0m             \u001b[0;32mreturn\u001b[0m \u001b[0mself\u001b[0m\u001b[0;34m.\u001b[0m\u001b[0mdataset\u001b[0m\u001b[0;34m.\u001b[0m\u001b[0m__getitems__\u001b[0m\u001b[0;34m(\u001b[0m\u001b[0;34m[\u001b[0m\u001b[0mself\u001b[0m\u001b[0;34m.\u001b[0m\u001b[0mindices\u001b[0m\u001b[0;34m[\u001b[0m\u001b[0midx\u001b[0m\u001b[0;34m]\u001b[0m \u001b[0;32mfor\u001b[0m \u001b[0midx\u001b[0m \u001b[0;32min\u001b[0m \u001b[0mindices\u001b[0m\u001b[0;34m]\u001b[0m\u001b[0;34m)\u001b[0m  \u001b[0;31m# type: ignore[attr-defined]\u001b[0m\u001b[0;34m\u001b[0m\u001b[0;34m\u001b[0m\u001b[0m\n\u001b[1;32m    363\u001b[0m         \u001b[0;32melse\u001b[0m\u001b[0;34m:\u001b[0m\u001b[0;34m\u001b[0m\u001b[0;34m\u001b[0m\u001b[0m\n\u001b[0;32m--> 364\u001b[0;31m             \u001b[0;32mreturn\u001b[0m \u001b[0;34m[\u001b[0m\u001b[0mself\u001b[0m\u001b[0;34m.\u001b[0m\u001b[0mdataset\u001b[0m\u001b[0;34m[\u001b[0m\u001b[0mself\u001b[0m\u001b[0;34m.\u001b[0m\u001b[0mindices\u001b[0m\u001b[0;34m[\u001b[0m\u001b[0midx\u001b[0m\u001b[0;34m]\u001b[0m\u001b[0;34m]\u001b[0m \u001b[0;32mfor\u001b[0m \u001b[0midx\u001b[0m \u001b[0;32min\u001b[0m \u001b[0mindices\u001b[0m\u001b[0;34m]\u001b[0m\u001b[0;34m\u001b[0m\u001b[0;34m\u001b[0m\u001b[0m\n\u001b[0m\u001b[1;32m    365\u001b[0m \u001b[0;34m\u001b[0m\u001b[0m\n\u001b[1;32m    366\u001b[0m     \u001b[0;32mdef\u001b[0m \u001b[0m__len__\u001b[0m\u001b[0;34m(\u001b[0m\u001b[0mself\u001b[0m\u001b[0;34m)\u001b[0m\u001b[0;34m:\u001b[0m\u001b[0;34m\u001b[0m\u001b[0;34m\u001b[0m\u001b[0m\n",
            "\u001b[0;32m<ipython-input-16-280bc687aed9>\u001b[0m in \u001b[0;36m__getitem__\u001b[0;34m(self, idx)\u001b[0m\n\u001b[1;32m     27\u001b[0m     \u001b[0mclass_id\u001b[0m \u001b[0;34m=\u001b[0m \u001b[0mself\u001b[0m\u001b[0;34m.\u001b[0m\u001b[0mdf\u001b[0m\u001b[0;34m.\u001b[0m\u001b[0mloc\u001b[0m\u001b[0;34m[\u001b[0m\u001b[0midx\u001b[0m\u001b[0;34m,\u001b[0m \u001b[0;34m'emotion_id'\u001b[0m\u001b[0;34m]\u001b[0m\u001b[0;34m\u001b[0m\u001b[0;34m\u001b[0m\u001b[0m\n\u001b[1;32m     28\u001b[0m \u001b[0;34m\u001b[0m\u001b[0m\n\u001b[0;32m---> 29\u001b[0;31m     \u001b[0maud\u001b[0m \u001b[0;34m=\u001b[0m \u001b[0mAudioUtil\u001b[0m\u001b[0;34m.\u001b[0m\u001b[0mopen\u001b[0m\u001b[0;34m(\u001b[0m\u001b[0maudio_file\u001b[0m\u001b[0;34m)\u001b[0m\u001b[0;34m\u001b[0m\u001b[0;34m\u001b[0m\u001b[0m\n\u001b[0m\u001b[1;32m     30\u001b[0m     \u001b[0;31m# Some sounds have a higher sample rate, or fewer channels compared to the\u001b[0m\u001b[0;34m\u001b[0m\u001b[0;34m\u001b[0m\u001b[0m\n\u001b[1;32m     31\u001b[0m     \u001b[0;31m# majority. So make all sounds have the same number of channels and same\u001b[0m\u001b[0;34m\u001b[0m\u001b[0;34m\u001b[0m\u001b[0m\n",
            "\u001b[0;32m<ipython-input-14-d4ce92120ecc>\u001b[0m in \u001b[0;36mopen\u001b[0;34m(audio_file)\u001b[0m\n\u001b[1;32m      5\u001b[0m   \u001b[0;34m@\u001b[0m\u001b[0mstaticmethod\u001b[0m\u001b[0;34m\u001b[0m\u001b[0;34m\u001b[0m\u001b[0m\n\u001b[1;32m      6\u001b[0m   \u001b[0;32mdef\u001b[0m \u001b[0mopen\u001b[0m\u001b[0;34m(\u001b[0m\u001b[0maudio_file\u001b[0m\u001b[0;34m)\u001b[0m\u001b[0;34m:\u001b[0m\u001b[0;34m\u001b[0m\u001b[0;34m\u001b[0m\u001b[0m\n\u001b[0;32m----> 7\u001b[0;31m     \u001b[0msig\u001b[0m\u001b[0;34m,\u001b[0m \u001b[0msr\u001b[0m \u001b[0;34m=\u001b[0m \u001b[0mtorchaudio\u001b[0m\u001b[0;34m.\u001b[0m\u001b[0mload\u001b[0m\u001b[0;34m(\u001b[0m\u001b[0maudio_file\u001b[0m\u001b[0;34m)\u001b[0m\u001b[0;34m\u001b[0m\u001b[0;34m\u001b[0m\u001b[0m\n\u001b[0m\u001b[1;32m      8\u001b[0m     \u001b[0;32mreturn\u001b[0m \u001b[0;34m(\u001b[0m\u001b[0msig\u001b[0m\u001b[0;34m,\u001b[0m \u001b[0msr\u001b[0m\u001b[0;34m)\u001b[0m\u001b[0;34m\u001b[0m\u001b[0;34m\u001b[0m\u001b[0m\n\u001b[1;32m      9\u001b[0m \u001b[0;34m\u001b[0m\u001b[0m\n",
            "\u001b[0;32m/usr/local/lib/python3.10/dist-packages/torchaudio/_backend/utils.py\u001b[0m in \u001b[0;36mload\u001b[0;34m(uri, frame_offset, num_frames, normalize, channels_first, format, buffer_size, backend)\u001b[0m\n\u001b[1;32m    201\u001b[0m         \"\"\"\n\u001b[1;32m    202\u001b[0m         \u001b[0mbackend\u001b[0m \u001b[0;34m=\u001b[0m \u001b[0mdispatcher\u001b[0m\u001b[0;34m(\u001b[0m\u001b[0muri\u001b[0m\u001b[0;34m,\u001b[0m \u001b[0mformat\u001b[0m\u001b[0;34m,\u001b[0m \u001b[0mbackend\u001b[0m\u001b[0;34m)\u001b[0m\u001b[0;34m\u001b[0m\u001b[0;34m\u001b[0m\u001b[0m\n\u001b[0;32m--> 203\u001b[0;31m         \u001b[0;32mreturn\u001b[0m \u001b[0mbackend\u001b[0m\u001b[0;34m.\u001b[0m\u001b[0mload\u001b[0m\u001b[0;34m(\u001b[0m\u001b[0muri\u001b[0m\u001b[0;34m,\u001b[0m \u001b[0mframe_offset\u001b[0m\u001b[0;34m,\u001b[0m \u001b[0mnum_frames\u001b[0m\u001b[0;34m,\u001b[0m \u001b[0mnormalize\u001b[0m\u001b[0;34m,\u001b[0m \u001b[0mchannels_first\u001b[0m\u001b[0;34m,\u001b[0m \u001b[0mformat\u001b[0m\u001b[0;34m,\u001b[0m \u001b[0mbuffer_size\u001b[0m\u001b[0;34m)\u001b[0m\u001b[0;34m\u001b[0m\u001b[0;34m\u001b[0m\u001b[0m\n\u001b[0m\u001b[1;32m    204\u001b[0m \u001b[0;34m\u001b[0m\u001b[0m\n\u001b[1;32m    205\u001b[0m     \u001b[0;32mreturn\u001b[0m \u001b[0mload\u001b[0m\u001b[0;34m\u001b[0m\u001b[0;34m\u001b[0m\u001b[0m\n",
            "\u001b[0;32m/usr/local/lib/python3.10/dist-packages/torchaudio/_backend/ffmpeg.py\u001b[0m in \u001b[0;36mload\u001b[0;34m(uri, frame_offset, num_frames, normalize, channels_first, format, buffer_size)\u001b[0m\n\u001b[1;32m    332\u001b[0m             )\n\u001b[1;32m    333\u001b[0m         \u001b[0;32melse\u001b[0m\u001b[0;34m:\u001b[0m\u001b[0;34m\u001b[0m\u001b[0;34m\u001b[0m\u001b[0m\n\u001b[0;32m--> 334\u001b[0;31m             \u001b[0;32mreturn\u001b[0m \u001b[0mload_audio\u001b[0m\u001b[0;34m(\u001b[0m\u001b[0mos\u001b[0m\u001b[0;34m.\u001b[0m\u001b[0mpath\u001b[0m\u001b[0;34m.\u001b[0m\u001b[0mnormpath\u001b[0m\u001b[0;34m(\u001b[0m\u001b[0muri\u001b[0m\u001b[0;34m)\u001b[0m\u001b[0;34m,\u001b[0m \u001b[0mframe_offset\u001b[0m\u001b[0;34m,\u001b[0m \u001b[0mnum_frames\u001b[0m\u001b[0;34m,\u001b[0m \u001b[0mnormalize\u001b[0m\u001b[0;34m,\u001b[0m \u001b[0mchannels_first\u001b[0m\u001b[0;34m,\u001b[0m \u001b[0mformat\u001b[0m\u001b[0;34m)\u001b[0m\u001b[0;34m\u001b[0m\u001b[0;34m\u001b[0m\u001b[0m\n\u001b[0m\u001b[1;32m    335\u001b[0m \u001b[0;34m\u001b[0m\u001b[0m\n\u001b[1;32m    336\u001b[0m     \u001b[0;34m@\u001b[0m\u001b[0mstaticmethod\u001b[0m\u001b[0;34m\u001b[0m\u001b[0;34m\u001b[0m\u001b[0m\n",
            "\u001b[0;32m/usr/local/lib/python3.10/dist-packages/torchaudio/_backend/ffmpeg.py\u001b[0m in \u001b[0;36mload_audio\u001b[0;34m(src, frame_offset, num_frames, convert, channels_first, format)\u001b[0m\n\u001b[1;32m     98\u001b[0m ) -> Tuple[torch.Tensor, int]:\n\u001b[1;32m     99\u001b[0m     \u001b[0mfilter\u001b[0m \u001b[0;34m=\u001b[0m \u001b[0m_get_load_filter\u001b[0m\u001b[0;34m(\u001b[0m\u001b[0mframe_offset\u001b[0m\u001b[0;34m,\u001b[0m \u001b[0mnum_frames\u001b[0m\u001b[0;34m,\u001b[0m \u001b[0mconvert\u001b[0m\u001b[0;34m)\u001b[0m\u001b[0;34m\u001b[0m\u001b[0;34m\u001b[0m\u001b[0m\n\u001b[0;32m--> 100\u001b[0;31m     \u001b[0;32mreturn\u001b[0m \u001b[0mtorch\u001b[0m\u001b[0;34m.\u001b[0m\u001b[0mops\u001b[0m\u001b[0;34m.\u001b[0m\u001b[0mtorchaudio\u001b[0m\u001b[0;34m.\u001b[0m\u001b[0mcompat_load\u001b[0m\u001b[0;34m(\u001b[0m\u001b[0msrc\u001b[0m\u001b[0;34m,\u001b[0m \u001b[0mformat\u001b[0m\u001b[0;34m,\u001b[0m \u001b[0mfilter\u001b[0m\u001b[0;34m,\u001b[0m \u001b[0mchannels_first\u001b[0m\u001b[0;34m)\u001b[0m\u001b[0;34m\u001b[0m\u001b[0;34m\u001b[0m\u001b[0m\n\u001b[0m\u001b[1;32m    101\u001b[0m \u001b[0;34m\u001b[0m\u001b[0m\n\u001b[1;32m    102\u001b[0m \u001b[0;34m\u001b[0m\u001b[0m\n",
            "\u001b[0;32m/usr/local/lib/python3.10/dist-packages/torch/_ops.py\u001b[0m in \u001b[0;36m__call__\u001b[0;34m(self, *args, **kwargs)\u001b[0m\n\u001b[1;32m    690\u001b[0m         \u001b[0;31m# We save the function ptr as the `op` attribute on\u001b[0m\u001b[0;34m\u001b[0m\u001b[0;34m\u001b[0m\u001b[0m\n\u001b[1;32m    691\u001b[0m         \u001b[0;31m# OpOverloadPacket to access it here.\u001b[0m\u001b[0;34m\u001b[0m\u001b[0;34m\u001b[0m\u001b[0m\n\u001b[0;32m--> 692\u001b[0;31m         \u001b[0;32mreturn\u001b[0m \u001b[0mself\u001b[0m\u001b[0;34m.\u001b[0m\u001b[0m_op\u001b[0m\u001b[0;34m(\u001b[0m\u001b[0;34m*\u001b[0m\u001b[0margs\u001b[0m\u001b[0;34m,\u001b[0m \u001b[0;34m**\u001b[0m\u001b[0mkwargs\u001b[0m \u001b[0;32mor\u001b[0m \u001b[0;34m{\u001b[0m\u001b[0;34m}\u001b[0m\u001b[0;34m)\u001b[0m\u001b[0;34m\u001b[0m\u001b[0;34m\u001b[0m\u001b[0m\n\u001b[0m\u001b[1;32m    693\u001b[0m \u001b[0;34m\u001b[0m\u001b[0m\n\u001b[1;32m    694\u001b[0m     \u001b[0;31m# TODO: use this to make a __dir__\u001b[0m\u001b[0;34m\u001b[0m\u001b[0;34m\u001b[0m\u001b[0m\n",
            "\u001b[0;31mKeyboardInterrupt\u001b[0m: "
          ]
        }
      ]
    },
    {
      "cell_type": "code",
      "source": [
        "resume(myModel, 'Best_Alexnet_model.pth')"
      ],
      "metadata": {
        "id": "8zUIcMf7P-ve"
      },
      "execution_count": 27,
      "outputs": []
    },
    {
      "cell_type": "markdown",
      "source": [
        "## Evaluate trained model on validation dataset and print accuracy"
      ],
      "metadata": {
        "id": "6mDezTpigYUQ"
      }
    },
    {
      "cell_type": "code",
      "source": [
        "# ----------------------------\n",
        "# Inference\n",
        "# ----------------------------\n",
        "def inference (model, val_dl):\n",
        "  correct_prediction = 0\n",
        "  total_prediction = 0\n",
        "\n",
        "  # Disable gradient updates\n",
        "  with torch.no_grad():\n",
        "    for data in val_dl:\n",
        "      # Get the input features and target labels, and put them on the GPU\n",
        "      inputs, labels = data[0].to(device), data[1].to(device)\n",
        "\n",
        "      # Normalize the inputs\n",
        "      inputs_m, inputs_s = inputs.mean(), inputs.std()\n",
        "      inputs = (inputs - inputs_m) / inputs_s\n",
        "\n",
        "      # Get predictions\n",
        "      outputs = model(inputs)\n",
        "\n",
        "      # Get the predicted class with the highest score\n",
        "      _, prediction = torch.max(outputs,1)\n",
        "      # Count of predictions that matched the target label\n",
        "      correct_prediction += (prediction == labels).sum().item()\n",
        "      total_prediction += prediction.shape[0]\n",
        "\n",
        "  acc = correct_prediction/total_prediction\n",
        "  print(f'Accuracy: {acc:.2f}, Total items: {total_prediction}')"
      ],
      "metadata": {
        "id": "KgoDYT16WVmQ"
      },
      "execution_count": 28,
      "outputs": []
    },
    {
      "cell_type": "code",
      "source": [
        "bestmodel = AlexNet()\n",
        "bestmodel.load_state_dict(torch.load('/content/Best_Alexnet_model.pth'))\n",
        "device = torch.device(\"cuda:0\" if torch.cuda.is_available() else \"cpu\")\n",
        "bestmodel = bestmodel.to(device)\n",
        "# Check that it is on Cuda\n",
        "next(bestmodel.parameters()).device"
      ],
      "metadata": {
        "colab": {
          "base_uri": "https://localhost:8080/"
        },
        "id": "WoAE9Hn9dS-c",
        "outputId": "3ac0a7f0-89f4-40dd-fe34-696f0d65d389"
      },
      "execution_count": 31,
      "outputs": [
        {
          "output_type": "execute_result",
          "data": {
            "text/plain": [
              "device(type='cuda', index=0)"
            ]
          },
          "metadata": {},
          "execution_count": 31
        }
      ]
    },
    {
      "cell_type": "code",
      "source": [
        "# Run inference on trained model with the validation set\n",
        "inference(myModel, val_dl)"
      ],
      "metadata": {
        "colab": {
          "base_uri": "https://localhost:8080/"
        },
        "id": "Zxp01LL7WYRY",
        "outputId": "1224f18b-6610-4c66-a0ab-83dfd68d1891"
      },
      "execution_count": 29,
      "outputs": [
        {
          "output_type": "stream",
          "name": "stdout",
          "text": [
            "Accuracy: 0.72, Total items: 288\n"
          ]
        }
      ]
    },
    {
      "cell_type": "code",
      "source": [
        "from sklearn.metrics import confusion_matrix\n",
        "import seaborn as sn\n",
        "import pandas as pd"
      ],
      "metadata": {
        "id": "W6SxuQdUe-eA"
      },
      "execution_count": 37,
      "outputs": []
    },
    {
      "cell_type": "code",
      "source": [
        "y_pred = []\n",
        "y_true = []\n",
        "\n",
        "# iterate over test data\n",
        "\n",
        "for data in val_dl:\n",
        "    # Get the input features and target labels, and put them on the GPU\n",
        "    inputs, labels = data[0].to(device), data[1].to(device)\n",
        "\n",
        "    # Normalize the inputs\n",
        "    inputs_m, inputs_s = inputs.mean(), inputs.std()\n",
        "    inputs = (inputs - inputs_m) / inputs_s\n",
        "\n",
        "    # Get predictions\n",
        "    outputs = bestmodel(inputs)\n",
        "\n",
        "    # Get the predicted class with the highest score\n",
        "    _, prediction = torch.max(outputs,1)\n",
        "\n",
        "    final_pred_cpu = prediction.data.cpu().numpy()\n",
        "\n",
        "    ##Appending the final output data\n",
        "    y_pred.extend(final_pred_cpu)\n",
        "\n",
        "    labels = labels.data.cpu().numpy()\n",
        "\n",
        "    y_true.extend(labels) # Save Truth\n",
        "\n",
        "\n",
        "# constant for classes\n",
        "classes = ('Neutral', 'Calm', 'Happy', 'Sad', 'Angry',\n",
        "        'Fearful', 'Disgust', 'Surprised')\n",
        "\n",
        "#01 = neutral, 02 = calm, 03 = happy, 04 = sad, 05 = angry, 06 = fearful, 07 = disgust, 08 = surprised\n",
        "# Build confusion matrix\n",
        "cf_matrix = confusion_matrix(y_true, y_pred)\n",
        "df_cm = pd.DataFrame(cf_matrix, index = [i for i in classes],\n",
        "                     columns = [i for i in classes])\n",
        "plt.figure(figsize = (12,7))\n",
        "plt.title('Confusion Matrix for AlexNet')\n",
        "sn.heatmap(df_cm, annot=True)"
      ],
      "metadata": {
        "id": "DmFNyV3cderM",
        "colab": {
          "base_uri": "https://localhost:8080/",
          "height": 640
        },
        "outputId": "605fbfdc-25b9-4fb7-a1f8-5c10de3fc2e5"
      },
      "execution_count": 43,
      "outputs": [
        {
          "output_type": "execute_result",
          "data": {
            "text/plain": [
              "<Axes: title={'center': 'Confusion Matrix for AlexNet'}>"
            ]
          },
          "metadata": {},
          "execution_count": 43
        },
        {
          "output_type": "display_data",
          "data": {
            "text/plain": [
              "<Figure size 1200x700 with 2 Axes>"
            ],
            "image/png": "[encoded data removed]"
          },
          "metadata": {}
        }
      ]
    },
    {
      "cell_type": "code",
      "source": [
        "df_cm = pd.DataFrame(cf_matrix / np.sum(cf_matrix, axis=1)[:, None], index = [i for i in classes],\n",
        "                     columns = [i for i in classes])\n",
        "plt.figure(figsize = (12,7))\n",
        "plt.title('Confusion Matrix by AlexNet, results in probability')\n",
        "sn.heatmap(df_cm, annot=True)"
      ],
      "metadata": {
        "colab": {
          "base_uri": "https://localhost:8080/",
          "height": 640
        },
        "id": "T2TQ-niLaa9G",
        "outputId": "2affd021-34ba-468f-e0ba-fa1274579366"
      },
      "execution_count": 42,
      "outputs": [
        {
          "output_type": "execute_result",
          "data": {
            "text/plain": [
              "<Axes: title={'center': 'Confusion Matrix by AlexNet, results in probability'}>"
            ]
          },
          "metadata": {},
          "execution_count": 42
        },
        {
          "output_type": "display_data",
          "data": {
            "text/plain": [
              "<Figure size 1200x700 with 2 Axes>"
            ],
            "image/png": "[encoded data removed]"
          },
          "metadata": {}
        }
      ]
    },
    {
      "cell_type": "code",
      "source": [
        "from sklearn.metrics import classification_report\n",
        "\n",
        "class_report = classification_report(y_true, y_pred, target_names=classes)\n",
        "print(class_report)"
      ],
      "metadata": {
        "id": "aA71mhw9gDna",
        "outputId": "b7f174d6-54c4-47c9-cba3-0f22c644cf33",
        "colab": {
          "base_uri": "https://localhost:8080/"
        }
      },
      "execution_count": 44,
      "outputs": [
        {
          "output_type": "stream",
          "name": "stdout",
          "text": [
            "              precision    recall  f1-score   support\n",
            "\n",
            "     Neutral       0.50      0.67      0.57        15\n",
            "        Calm       0.89      0.80      0.84        40\n",
            "       Happy       0.96      0.63      0.76        41\n",
            "         Sad       0.67      0.76      0.71        42\n",
            "       Angry       0.75      0.87      0.80        38\n",
            "     Fearful       0.72      0.66      0.69        35\n",
            "     Disgust       0.73      0.82      0.77        39\n",
            "   Surprised       0.76      0.74      0.75        38\n",
            "\n",
            "    accuracy                           0.75       288\n",
            "   macro avg       0.75      0.74      0.74       288\n",
            "weighted avg       0.77      0.75      0.75       288\n",
            "\n"
          ]
        }
      ]
    },
    {
      "cell_type": "code",
      "source": [],
      "metadata": {
        "id": "zRWJGo7xjxcj"
      },
      "execution_count": null,
      "outputs": []
    }
  ]
}